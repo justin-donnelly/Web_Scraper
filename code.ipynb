{
 "cells": [
  {
   "cell_type": "code",
   "execution_count": 3,
   "metadata": {},
   "outputs": [],
   "source": [
    "import requests\n",
    "from traceback import print_exc"
   ]
  },
  {
   "cell_type": "code",
   "execution_count": 2,
   "metadata": {},
   "outputs": [],
   "source": [
    "id_dict = {\"NBA\":\"42648\"}"
   ]
  },
  {
   "cell_type": "code",
   "execution_count": 59,
   "metadata": {},
   "outputs": [],
   "source": [
    "class DraftKingsScraper:\n",
    "    def __init__(self, league = \"NBA\"):\n",
    "        self.game_url = f\"https://sportsbook.draftkings.com//sites/US-NJ-SB/api/v5/eventgroups/{id_dict[league]}/categories/487?format=json\"\n",
    "\n",
    "    def get_odds(self):\n",
    "        games_list = []\n",
    "        response = requests.get(self.game_url).json()\n",
    "        games = response['eventGroup']['offerCategories'][0]['offerSubcategoryDescriptors'][0]['offerSubcategory']['offers']\n",
    "\n",
    "        for game in games:\n",
    "            market_list =[]\n",
    "            for market in game:\n",
    "                try:\n",
    "                    market_name = market['label']\n",
    "                    if market_name == 'Moneyline':\n",
    "                        home_team = market['outcomes'][0]['label']\n",
    "                        away_team = market['outcomes'][1]['label']\n",
    "                    \n",
    "                    outcome_list = []\n",
    "                    for outcome in market['outcomes']:\n",
    "                        try:\n",
    "                            line = outcome['line']\n",
    "                            outcome_label = outcome['label'] + \" \" + str(line)\n",
    "                        except:\n",
    "                            outcome_label = outcome['label']\n",
    "\n",
    "                        outcome_odds = outcome['oddsAmerican']\n",
    "                        outcome_list.append({\"label\":outcome_label, 'odds':outcome_odds})\n",
    "                    market_list.append({\"marketName\":market_name, \"outComes\":outcome_list})\n",
    "                except:\n",
    "                    print_exc()\n",
    "                    print()\n",
    "                    continue\n",
    "\n",
    "            games_list.append({\"Game\": f\"{home_team} V {away_team}\", \"Markets\":market_list})\n",
    "            \n",
    "        return games_list\n",
    "                \n",
    "            "
   ]
  },
  {
   "cell_type": "code",
   "execution_count": 61,
   "metadata": {},
   "outputs": [],
   "source": [
    "dk_instance = DraftKingsScraper(league=\"NBA\")"
   ]
  },
  {
   "cell_type": "code",
   "execution_count": 63,
   "metadata": {},
   "outputs": [
    {
     "data": {
      "text/plain": [
       "[{'Game': 'LA Lakers V GS Warriors',\n",
       "  'Markets': [{'marketName': 'Spread',\n",
       "    'outComes': [{'label': 'LA Lakers 6.5', 'odds': '-110'},\n",
       "     {'label': 'GS Warriors -6.5', 'odds': '-110'}]},\n",
       "   {'marketName': 'Total',\n",
       "    'outComes': [{'label': 'Over 227.0', 'odds': '-110'},\n",
       "     {'label': 'Under 227.0', 'odds': '-110'}]},\n",
       "   {'marketName': 'Moneyline',\n",
       "    'outComes': [{'label': 'LA Lakers', 'odds': '+220'},\n",
       "     {'label': 'GS Warriors', 'odds': '-260'}]}]},\n",
       " {'Game': 'BOS Celtics V PHI 76ers',\n",
       "  'Markets': [{'marketName': 'Spread',\n",
       "    'outComes': [{'label': 'BOS Celtics -1.5', 'odds': '-115'},\n",
       "     {'label': 'PHI 76ers 1.5', 'odds': '-105'}]},\n",
       "   {'marketName': 'Total',\n",
       "    'outComes': [{'label': 'Over 214.0', 'odds': '-110'},\n",
       "     {'label': 'Under 214.0', 'odds': '-110'}]},\n",
       "   {'marketName': 'Moneyline',\n",
       "    'outComes': [{'label': 'BOS Celtics', 'odds': '-130'},\n",
       "     {'label': 'PHI 76ers', 'odds': '+110'}]}]},\n",
       " {'Game': 'DEN Nuggets V PHO Suns',\n",
       "  'Markets': [{'marketName': 'Spread',\n",
       "    'outComes': [{'label': 'DEN Nuggets 4.0', 'odds': '-110'},\n",
       "     {'label': 'PHO Suns -4.0', 'odds': '-110'}]},\n",
       "   {'marketName': 'Total',\n",
       "    'outComes': [{'label': 'Over 224.5', 'odds': '-110'},\n",
       "     {'label': 'Under 224.5', 'odds': '-110'}]},\n",
       "   {'marketName': 'Moneyline',\n",
       "    'outComes': [{'label': 'DEN Nuggets', 'odds': '+150'},\n",
       "     {'label': 'PHO Suns', 'odds': '-175'}]}]},\n",
       " {'Game': 'NY Knicks V MIA Heat',\n",
       "  'Markets': [{'marketName': 'Spread',\n",
       "    'outComes': [{'label': 'NY Knicks 3.0', 'odds': '-110'},\n",
       "     {'label': 'MIA Heat -3.0', 'odds': '-110'}]},\n",
       "   {'marketName': 'Total',\n",
       "    'outComes': [{'label': 'Over 208.5', 'odds': '-110'},\n",
       "     {'label': 'Under 208.5', 'odds': '-110'}]},\n",
       "   {'marketName': 'Moneyline',\n",
       "    'outComes': [{'label': 'NY Knicks', 'odds': '+135'},\n",
       "     {'label': 'MIA Heat', 'odds': '-155'}]}]}]"
      ]
     },
     "execution_count": 63,
     "metadata": {},
     "output_type": "execute_result"
    }
   ],
   "source": [
    "odds = dk_instance.get_odds()\n",
    "odds"
   ]
  },
  {
   "cell_type": "code",
   "execution_count": 79,
   "metadata": {},
   "outputs": [
    {
     "name": "stdout",
     "output_type": "stream",
     "text": [
      "{'marketName': 'Spread', 'outComes': [{'label': 'LA Lakers 6.5', 'odds': '-110'}, {'label': 'GS Warriors -6.5', 'odds': '-110'}]}\n",
      "{'marketName': 'Total', 'outComes': [{'label': 'Over 227.0', 'odds': '-110'}, {'label': 'Under 227.0', 'odds': '-110'}]}\n",
      "{'marketName': 'Moneyline', 'outComes': [{'label': 'LA Lakers', 'odds': '+220'}, {'label': 'GS Warriors', 'odds': '-260'}]}\n",
      "{'marketName': 'Spread', 'outComes': [{'label': 'BOS Celtics -1.5', 'odds': '-115'}, {'label': 'PHI 76ers 1.5', 'odds': '-105'}]}\n",
      "{'marketName': 'Total', 'outComes': [{'label': 'Over 214.0', 'odds': '-110'}, {'label': 'Under 214.0', 'odds': '-110'}]}\n",
      "{'marketName': 'Moneyline', 'outComes': [{'label': 'BOS Celtics', 'odds': '-130'}, {'label': 'PHI 76ers', 'odds': '+110'}]}\n",
      "{'marketName': 'Spread', 'outComes': [{'label': 'DEN Nuggets 4.0', 'odds': '-110'}, {'label': 'PHO Suns -4.0', 'odds': '-110'}]}\n",
      "{'marketName': 'Total', 'outComes': [{'label': 'Over 224.5', 'odds': '-110'}, {'label': 'Under 224.5', 'odds': '-110'}]}\n",
      "{'marketName': 'Moneyline', 'outComes': [{'label': 'DEN Nuggets', 'odds': '+150'}, {'label': 'PHO Suns', 'odds': '-175'}]}\n",
      "{'marketName': 'Spread', 'outComes': [{'label': 'NY Knicks 3.0', 'odds': '-110'}, {'label': 'MIA Heat -3.0', 'odds': '-110'}]}\n",
      "{'marketName': 'Total', 'outComes': [{'label': 'Over 208.5', 'odds': '-110'}, {'label': 'Under 208.5', 'odds': '-110'}]}\n",
      "{'marketName': 'Moneyline', 'outComes': [{'label': 'NY Knicks', 'odds': '+135'}, {'label': 'MIA Heat', 'odds': '-155'}]}\n"
     ]
    }
   ],
   "source": [
    "for game in odds:\n",
    "    for i in game['Markets']:\n",
    "        print(i)"
   ]
  },
  {
   "attachments": {},
   "cell_type": "markdown",
   "metadata": {},
   "source": [
    "# Below code was used to help me mentally keep my place in the indexing and can be ignored:"
   ]
  },
  {
   "cell_type": "code",
   "execution_count": 55,
   "metadata": {},
   "outputs": [],
   "source": [
    "r1 = requests.get(f\"https://sportsbook.draftkings.com//sites/US-SB/api/v5/eventgroups/{id_dict['NBA']}?format=json\").json()"
   ]
  },
  {
   "cell_type": "code",
   "execution_count": 56,
   "metadata": {},
   "outputs": [],
   "source": [
    "games= r1['eventGroup']['offerCategories'][0]['offerSubcategoryDescriptors'][0]['offerSubcategory']['offers']"
   ]
  },
  {
   "cell_type": "code",
   "execution_count": 58,
   "metadata": {},
   "outputs": [
    {
     "name": "stdout",
     "output_type": "stream",
     "text": [
      "[{'providerOutcomeId': '0HC70382149P650_3', 'providerId': 2, 'providerOfferId': '2_70382149', 'label': 'LA Lakers', 'oddsAmerican': '-110', 'oddsDecimal': 1.90909091, 'oddsDecimalDisplay': '1.90', 'oddsFractional': '10/11', 'line': 6.5, 'main': True}, {'providerOutcomeId': '0HC70382149N650_1', 'providerId': 2, 'providerOfferId': '2_70382149', 'label': 'GS Warriors', 'oddsAmerican': '-110', 'oddsDecimal': 1.90909091, 'oddsDecimalDisplay': '1.90', 'oddsFractional': '10/11', 'line': -6.5, 'main': True}]\n",
      "[{'providerOutcomeId': '0OU70382149O22700_1', 'providerId': 2, 'providerOfferId': '3_70382149', 'label': 'Over', 'oddsAmerican': '-110', 'oddsDecimal': 1.90909091, 'oddsDecimalDisplay': '1.90', 'oddsFractional': '10/11', 'line': 227.0, 'main': True}, {'providerOutcomeId': '0OU70382149U22700_3', 'providerId': 2, 'providerOfferId': '3_70382149', 'label': 'Under', 'oddsAmerican': '-110', 'oddsDecimal': 1.90909091, 'oddsDecimalDisplay': '1.90', 'oddsFractional': '10/11', 'line': 227.0, 'main': True}]\n",
      "[{'providerOutcomeId': '0ML70382149_3', 'providerId': 2, 'providerOfferId': '1_70382149', 'label': 'LA Lakers', 'oddsAmerican': '+220', 'oddsDecimal': 3.2, 'oddsDecimalDisplay': '3.20', 'oddsFractional': '11/5', 'main': True}, {'providerOutcomeId': '0ML70382149_1', 'providerId': 2, 'providerOfferId': '1_70382149', 'label': 'GS Warriors', 'oddsAmerican': '-260', 'oddsDecimal': 1.38461539, 'oddsDecimalDisplay': '1.38', 'oddsFractional': '5/13', 'main': True}]\n",
      "[{'providerOutcomeId': '0HC70397213N150_3', 'providerId': 2, 'providerOfferId': '2_70397213', 'label': 'BOS Celtics', 'oddsAmerican': '-115', 'oddsDecimal': 1.86956522, 'oddsDecimalDisplay': '1.86', 'oddsFractional': '20/23', 'line': -1.5, 'main': True}, {'providerOutcomeId': '0HC70397213P150_1', 'providerId': 2, 'providerOfferId': '2_70397213', 'label': 'PHI 76ers', 'oddsAmerican': '-105', 'oddsDecimal': 1.95238096, 'oddsDecimalDisplay': '1.95', 'oddsFractional': '20/21', 'line': 1.5, 'main': True}]\n",
      "[{'providerOutcomeId': '0OU70397213O21400_1', 'providerId': 2, 'providerOfferId': '3_70397213', 'label': 'Over', 'oddsAmerican': '-110', 'oddsDecimal': 1.90909091, 'oddsDecimalDisplay': '1.90', 'oddsFractional': '10/11', 'line': 214.0, 'main': True}, {'providerOutcomeId': '0OU70397213U21400_3', 'providerId': 2, 'providerOfferId': '3_70397213', 'label': 'Under', 'oddsAmerican': '-110', 'oddsDecimal': 1.90909091, 'oddsDecimalDisplay': '1.90', 'oddsFractional': '10/11', 'line': 214.0, 'main': True}]\n",
      "[{'providerOutcomeId': '0ML70397213_3', 'providerId': 2, 'providerOfferId': '1_70397213', 'label': 'BOS Celtics', 'oddsAmerican': '-130', 'oddsDecimal': 1.76923077, 'oddsDecimalDisplay': '1.76', 'oddsFractional': '10/13', 'main': True}, {'providerOutcomeId': '0ML70397213_1', 'providerId': 2, 'providerOfferId': '1_70397213', 'label': 'PHI 76ers', 'oddsAmerican': '+110', 'oddsDecimal': 2.1, 'oddsDecimalDisplay': '2.10', 'oddsFractional': '11/10', 'main': True}]\n",
      "[{'providerOutcomeId': '0HC70365391P400_3', 'providerId': 2, 'providerOfferId': '2_70365391', 'label': 'DEN Nuggets', 'oddsAmerican': '-110', 'oddsDecimal': 1.90909091, 'oddsDecimalDisplay': '1.90', 'oddsFractional': '10/11', 'line': 4.0, 'main': True}, {'providerOutcomeId': '0HC70365391N400_1', 'providerId': 2, 'providerOfferId': '2_70365391', 'label': 'PHO Suns', 'oddsAmerican': '-110', 'oddsDecimal': 1.90909091, 'oddsDecimalDisplay': '1.90', 'oddsFractional': '10/11', 'line': -4.0, 'main': True}]\n",
      "[{'providerOutcomeId': '0OU70365391O22450_1', 'providerId': 2, 'providerOfferId': '3_70365391', 'label': 'Over', 'oddsAmerican': '-110', 'oddsDecimal': 1.90909091, 'oddsDecimalDisplay': '1.90', 'oddsFractional': '10/11', 'line': 224.5, 'main': True}, {'providerOutcomeId': '0OU70365391U22450_3', 'providerId': 2, 'providerOfferId': '3_70365391', 'label': 'Under', 'oddsAmerican': '-110', 'oddsDecimal': 1.90909091, 'oddsDecimalDisplay': '1.90', 'oddsFractional': '10/11', 'line': 224.5, 'main': True}]\n",
      "[{'providerOutcomeId': '0ML70365391_3', 'providerId': 2, 'providerOfferId': '1_70365391', 'label': 'DEN Nuggets', 'oddsAmerican': '+150', 'oddsDecimal': 2.5, 'oddsDecimalDisplay': '2.50', 'oddsFractional': '3/2', 'main': True}, {'providerOutcomeId': '0ML70365391_1', 'providerId': 2, 'providerOfferId': '1_70365391', 'label': 'PHO Suns', 'oddsAmerican': '-175', 'oddsDecimal': 1.57142858, 'oddsDecimalDisplay': '1.57', 'oddsFractional': '4/7', 'main': True}]\n",
      "[{'providerOutcomeId': '0HC70382148P300_3', 'providerId': 2, 'providerOfferId': '2_70382148', 'label': 'NY Knicks', 'oddsAmerican': '-110', 'oddsDecimal': 1.90909091, 'oddsDecimalDisplay': '1.90', 'oddsFractional': '10/11', 'line': 3.0, 'main': True}, {'providerOutcomeId': '0HC70382148N300_1', 'providerId': 2, 'providerOfferId': '2_70382148', 'label': 'MIA Heat', 'oddsAmerican': '-110', 'oddsDecimal': 1.90909091, 'oddsDecimalDisplay': '1.90', 'oddsFractional': '10/11', 'line': -3.0, 'main': True}]\n",
      "[{'providerOutcomeId': '0OU70382148O20850_1', 'providerId': 2, 'providerOfferId': '3_70382148', 'label': 'Over', 'oddsAmerican': '-110', 'oddsDecimal': 1.90909091, 'oddsDecimalDisplay': '1.90', 'oddsFractional': '10/11', 'line': 208.5, 'main': True}, {'providerOutcomeId': '0OU70382148U20850_3', 'providerId': 2, 'providerOfferId': '3_70382148', 'label': 'Under', 'oddsAmerican': '-110', 'oddsDecimal': 1.90909091, 'oddsDecimalDisplay': '1.90', 'oddsFractional': '10/11', 'line': 208.5, 'main': True}]\n",
      "[{'providerOutcomeId': '0ML70382148_3', 'providerId': 2, 'providerOfferId': '1_70382148', 'label': 'NY Knicks', 'oddsAmerican': '+135', 'oddsDecimal': 2.35, 'oddsDecimalDisplay': '2.35', 'oddsFractional': '27/20', 'main': True}, {'providerOutcomeId': '0ML70382148_1', 'providerId': 2, 'providerOfferId': '1_70382148', 'label': 'MIA Heat', 'oddsAmerican': '-155', 'oddsDecimal': 1.6451613, 'oddsDecimalDisplay': '1.64', 'oddsFractional': '20/31', 'main': True}]\n"
     ]
    }
   ],
   "source": [
    "for game in games:\n",
    "    for market in game:\n",
    "        print(market['outcomes'])\n",
    "    "
   ]
  }
 ],
 "metadata": {
  "kernelspec": {
   "display_name": "dev",
   "language": "python",
   "name": "python3"
  },
  "language_info": {
   "codemirror_mode": {
    "name": "ipython",
    "version": 3
   },
   "file_extension": ".py",
   "mimetype": "text/x-python",
   "name": "python",
   "nbconvert_exporter": "python",
   "pygments_lexer": "ipython3",
   "version": "3.7.13"
  },
  "orig_nbformat": 4
 },
 "nbformat": 4,
 "nbformat_minor": 2
}
